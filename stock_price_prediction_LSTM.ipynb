{
 "cells": [
  {
   "cell_type": "markdown",
   "metadata": {},
   "source": [
    "# Stock Price Prediction of Microsoft"
   ]
  },
  {
   "cell_type": "code",
   "execution_count": 1,
   "metadata": {},
   "outputs": [],
   "source": [
    "import pandas as pd\n",
    "import numpy as np\n",
    "%matplotlib inline\n",
    "import matplotlib.pyplot as plt\n",
    "import matplotlib\n",
    "from sklearn.preprocessing import MinMaxScaler\n",
    "from keras.layers import LSTM,Dense,Dropout\n",
    "from sklearn.model_selection import TimeSeriesSplit\n",
    "from sklearn.metrics import mean_squared_error, r2_score\n",
    "import matplotlib.dates as mdates\n",
    "from sklearn import linear_model\n"
   ]
  },
  {
   "cell_type": "markdown",
   "metadata": {},
   "source": [
    "# Reading data using parse date\n",
    "As it is timeseries data so we have to read the data by parsing date means making data column as index."
   ]
  },
  {
   "cell_type": "code",
   "execution_count": 2,
   "metadata": {},
   "outputs": [],
   "source": [
    "\n",
    "df_final = pd.read_csv(\"Microsoft.csv\",na_values=['null'],index_col='Date',parse_dates=True,infer_datetime_format=True)"
   ]
  },
  {
   "cell_type": "code",
   "execution_count": 3,
   "metadata": {},
   "outputs": [
    {
     "data": {
      "text/html": [
       "<div>\n",
       "<style scoped>\n",
       "    .dataframe tbody tr th:only-of-type {\n",
       "        vertical-align: middle;\n",
       "    }\n",
       "\n",
       "    .dataframe tbody tr th {\n",
       "        vertical-align: top;\n",
       "    }\n",
       "\n",
       "    .dataframe thead th {\n",
       "        text-align: right;\n",
       "    }\n",
       "</style>\n",
       "<table border=\"1\" class=\"dataframe\">\n",
       "  <thead>\n",
       "    <tr style=\"text-align: right;\">\n",
       "      <th></th>\n",
       "      <th>Open</th>\n",
       "      <th>High</th>\n",
       "      <th>Low</th>\n",
       "      <th>Close</th>\n",
       "      <th>Adj Close</th>\n",
       "      <th>Volume</th>\n",
       "    </tr>\n",
       "    <tr>\n",
       "      <th>Date</th>\n",
       "      <th></th>\n",
       "      <th></th>\n",
       "      <th></th>\n",
       "      <th></th>\n",
       "      <th></th>\n",
       "      <th></th>\n",
       "    </tr>\n",
       "  </thead>\n",
       "  <tbody>\n",
       "    <tr>\n",
       "      <th>1990-01-02</th>\n",
       "      <td>0.605903</td>\n",
       "      <td>0.616319</td>\n",
       "      <td>0.598090</td>\n",
       "      <td>0.616319</td>\n",
       "      <td>0.447268</td>\n",
       "      <td>53033600</td>\n",
       "    </tr>\n",
       "    <tr>\n",
       "      <th>1990-01-03</th>\n",
       "      <td>0.621528</td>\n",
       "      <td>0.626736</td>\n",
       "      <td>0.614583</td>\n",
       "      <td>0.619792</td>\n",
       "      <td>0.449788</td>\n",
       "      <td>113772800</td>\n",
       "    </tr>\n",
       "    <tr>\n",
       "      <th>1990-01-04</th>\n",
       "      <td>0.619792</td>\n",
       "      <td>0.638889</td>\n",
       "      <td>0.616319</td>\n",
       "      <td>0.638021</td>\n",
       "      <td>0.463017</td>\n",
       "      <td>125740800</td>\n",
       "    </tr>\n",
       "    <tr>\n",
       "      <th>1990-01-05</th>\n",
       "      <td>0.635417</td>\n",
       "      <td>0.638889</td>\n",
       "      <td>0.621528</td>\n",
       "      <td>0.622396</td>\n",
       "      <td>0.451678</td>\n",
       "      <td>69564800</td>\n",
       "    </tr>\n",
       "    <tr>\n",
       "      <th>1990-01-08</th>\n",
       "      <td>0.621528</td>\n",
       "      <td>0.631944</td>\n",
       "      <td>0.614583</td>\n",
       "      <td>0.631944</td>\n",
       "      <td>0.458607</td>\n",
       "      <td>58982400</td>\n",
       "    </tr>\n",
       "  </tbody>\n",
       "</table>\n",
       "</div>"
      ],
      "text/plain": [
       "                Open      High       Low     Close  Adj Close     Volume\n",
       "Date                                                                    \n",
       "1990-01-02  0.605903  0.616319  0.598090  0.616319   0.447268   53033600\n",
       "1990-01-03  0.621528  0.626736  0.614583  0.619792   0.449788  113772800\n",
       "1990-01-04  0.619792  0.638889  0.616319  0.638021   0.463017  125740800\n",
       "1990-01-05  0.635417  0.638889  0.621528  0.622396   0.451678   69564800\n",
       "1990-01-08  0.621528  0.631944  0.614583  0.631944   0.458607   58982400"
      ]
     },
     "execution_count": 3,
     "metadata": {},
     "output_type": "execute_result"
    }
   ],
   "source": [
    "df_final.head()"
   ]
  },
  {
   "cell_type": "code",
   "execution_count": 4,
   "metadata": {},
   "outputs": [
    {
     "data": {
      "text/plain": [
       "(7334, 6)"
      ]
     },
     "execution_count": 4,
     "metadata": {},
     "output_type": "execute_result"
    }
   ],
   "source": [
    "\n",
    "df_final.shape"
   ]
  },
  {
   "cell_type": "code",
   "execution_count": 5,
   "metadata": {},
   "outputs": [
    {
     "data": {
      "text/html": [
       "<div>\n",
       "<style scoped>\n",
       "    .dataframe tbody tr th:only-of-type {\n",
       "        vertical-align: middle;\n",
       "    }\n",
       "\n",
       "    .dataframe tbody tr th {\n",
       "        vertical-align: top;\n",
       "    }\n",
       "\n",
       "    .dataframe thead th {\n",
       "        text-align: right;\n",
       "    }\n",
       "</style>\n",
       "<table border=\"1\" class=\"dataframe\">\n",
       "  <thead>\n",
       "    <tr style=\"text-align: right;\">\n",
       "      <th></th>\n",
       "      <th>Open</th>\n",
       "      <th>High</th>\n",
       "      <th>Low</th>\n",
       "      <th>Close</th>\n",
       "      <th>Adj Close</th>\n",
       "      <th>Volume</th>\n",
       "    </tr>\n",
       "  </thead>\n",
       "  <tbody>\n",
       "    <tr>\n",
       "      <th>count</th>\n",
       "      <td>7334.000000</td>\n",
       "      <td>7334.000000</td>\n",
       "      <td>7334.000000</td>\n",
       "      <td>7334.000000</td>\n",
       "      <td>7334.000000</td>\n",
       "      <td>7.334000e+03</td>\n",
       "    </tr>\n",
       "    <tr>\n",
       "      <th>mean</th>\n",
       "      <td>28.578362</td>\n",
       "      <td>28.891892</td>\n",
       "      <td>28.261203</td>\n",
       "      <td>28.582426</td>\n",
       "      <td>24.008891</td>\n",
       "      <td>6.022760e+07</td>\n",
       "    </tr>\n",
       "    <tr>\n",
       "      <th>std</th>\n",
       "      <td>22.279033</td>\n",
       "      <td>22.476021</td>\n",
       "      <td>22.054379</td>\n",
       "      <td>22.275692</td>\n",
       "      <td>21.941225</td>\n",
       "      <td>3.400345e+07</td>\n",
       "    </tr>\n",
       "    <tr>\n",
       "      <th>min</th>\n",
       "      <td>0.591146</td>\n",
       "      <td>0.604167</td>\n",
       "      <td>0.583333</td>\n",
       "      <td>0.598090</td>\n",
       "      <td>0.434039</td>\n",
       "      <td>3.705600e+06</td>\n",
       "    </tr>\n",
       "    <tr>\n",
       "      <th>25%</th>\n",
       "      <td>12.457031</td>\n",
       "      <td>12.595703</td>\n",
       "      <td>12.261719</td>\n",
       "      <td>12.488281</td>\n",
       "      <td>9.062849</td>\n",
       "      <td>3.821840e+07</td>\n",
       "    </tr>\n",
       "    <tr>\n",
       "      <th>50%</th>\n",
       "      <td>26.980000</td>\n",
       "      <td>27.235000</td>\n",
       "      <td>26.730000</td>\n",
       "      <td>26.990000</td>\n",
       "      <td>20.431164</td>\n",
       "      <td>5.429885e+07</td>\n",
       "    </tr>\n",
       "    <tr>\n",
       "      <th>75%</th>\n",
       "      <td>34.716562</td>\n",
       "      <td>35.099998</td>\n",
       "      <td>34.250000</td>\n",
       "      <td>34.687500</td>\n",
       "      <td>26.993589</td>\n",
       "      <td>7.367888e+07</td>\n",
       "    </tr>\n",
       "    <tr>\n",
       "      <th>max</th>\n",
       "      <td>115.419998</td>\n",
       "      <td>116.180000</td>\n",
       "      <td>114.930000</td>\n",
       "      <td>115.610001</td>\n",
       "      <td>115.112709</td>\n",
       "      <td>7.645040e+08</td>\n",
       "    </tr>\n",
       "  </tbody>\n",
       "</table>\n",
       "</div>"
      ],
      "text/plain": [
       "              Open         High          Low        Close    Adj Close  \\\n",
       "count  7334.000000  7334.000000  7334.000000  7334.000000  7334.000000   \n",
       "mean     28.578362    28.891892    28.261203    28.582426    24.008891   \n",
       "std      22.279033    22.476021    22.054379    22.275692    21.941225   \n",
       "min       0.591146     0.604167     0.583333     0.598090     0.434039   \n",
       "25%      12.457031    12.595703    12.261719    12.488281     9.062849   \n",
       "50%      26.980000    27.235000    26.730000    26.990000    20.431164   \n",
       "75%      34.716562    35.099998    34.250000    34.687500    26.993589   \n",
       "max     115.419998   116.180000   114.930000   115.610001   115.112709   \n",
       "\n",
       "             Volume  \n",
       "count  7.334000e+03  \n",
       "mean   6.022760e+07  \n",
       "std    3.400345e+07  \n",
       "min    3.705600e+06  \n",
       "25%    3.821840e+07  \n",
       "50%    5.429885e+07  \n",
       "75%    7.367888e+07  \n",
       "max    7.645040e+08  "
      ]
     },
     "execution_count": 5,
     "metadata": {},
     "output_type": "execute_result"
    }
   ],
   "source": [
    "df_final.describe()"
   ]
  },
  {
   "cell_type": "code",
   "execution_count": 6,
   "metadata": {},
   "outputs": [
    {
     "data": {
      "text/plain": [
       "False"
      ]
     },
     "execution_count": 6,
     "metadata": {},
     "output_type": "execute_result"
    }
   ],
   "source": [
    "df_final.isnull().values.any()"
   ]
  },
  {
   "cell_type": "code",
   "execution_count": 7,
   "metadata": {},
   "outputs": [
    {
     "data": {
      "text/plain": [
       "<AxesSubplot:xlabel='Date'>"
      ]
     },
     "execution_count": 7,
     "metadata": {},
     "output_type": "execute_result"
    },
    {
     "data": {
      "image/png": "[encoded data removed]",
      "text/plain": [
       "<Figure size 640x480 with 1 Axes>"
      ]
     },
     "metadata": {},
     "output_type": "display_data"
    }
   ],
   "source": [
    "df_final['Adj Close'].plot()"
   ]
  },
  {
   "cell_type": "markdown",
   "metadata": {},
   "source": [
    "# Correlation Analysis"
   ]
  },
  {
   "cell_type": "code",
   "execution_count": 8,
   "metadata": {},
   "outputs": [],
   "source": [
    "X=df_final.drop(['Adj Close'],axis=1)\n",
    "X=X.drop(['Close'],axis=1)"
   ]
  },
  {
   "cell_type": "code",
   "execution_count": 9,
   "metadata": {},
   "outputs": [
    {
     "data": {
      "text/plain": [
       "<AxesSubplot:title={'center':'Correlation with Adj Close'}>"
      ]
     },
     "execution_count": 9,
     "metadata": {},
     "output_type": "execute_result"
    },
    {
     "data": {
      "image/png": "[encoded data removed]",
      "text/plain": [
       "<Figure size 2000x1000 with 1 Axes>"
      ]
     },
     "metadata": {},
     "output_type": "display_data"
    }
   ],
   "source": [
    "X.corrwith(df_final['Adj Close']).plot.bar(\n",
    "        figsize = (20, 10), title = \"Correlation with Adj Close\", fontsize = 20,\n",
    "        rot = 90, grid = True)"
   ]
  },
  {
   "cell_type": "code",
   "execution_count": 10,
   "metadata": {},
   "outputs": [
    {
     "data": {
      "text/html": [
       "<div>\n",
       "<style scoped>\n",
       "    .dataframe tbody tr th:only-of-type {\n",
       "        vertical-align: middle;\n",
       "    }\n",
       "\n",
       "    .dataframe tbody tr th {\n",
       "        vertical-align: top;\n",
       "    }\n",
       "\n",
       "    .dataframe thead th {\n",
       "        text-align: right;\n",
       "    }\n",
       "</style>\n",
       "<table border=\"1\" class=\"dataframe\">\n",
       "  <thead>\n",
       "    <tr style=\"text-align: right;\">\n",
       "      <th></th>\n",
       "      <th>Open</th>\n",
       "      <th>High</th>\n",
       "      <th>Low</th>\n",
       "      <th>Close</th>\n",
       "      <th>Adj Close</th>\n",
       "      <th>Volume</th>\n",
       "    </tr>\n",
       "    <tr>\n",
       "      <th>Date</th>\n",
       "      <th></th>\n",
       "      <th></th>\n",
       "      <th></th>\n",
       "      <th></th>\n",
       "      <th></th>\n",
       "      <th></th>\n",
       "    </tr>\n",
       "  </thead>\n",
       "  <tbody>\n",
       "    <tr>\n",
       "      <th>1990-01-02</th>\n",
       "      <td>0.605903</td>\n",
       "      <td>0.616319</td>\n",
       "      <td>0.598090</td>\n",
       "      <td>0.616319</td>\n",
       "      <td>0.447268</td>\n",
       "      <td>53033600</td>\n",
       "    </tr>\n",
       "    <tr>\n",
       "      <th>1990-01-03</th>\n",
       "      <td>0.621528</td>\n",
       "      <td>0.626736</td>\n",
       "      <td>0.614583</td>\n",
       "      <td>0.619792</td>\n",
       "      <td>0.449788</td>\n",
       "      <td>113772800</td>\n",
       "    </tr>\n",
       "    <tr>\n",
       "      <th>1990-01-04</th>\n",
       "      <td>0.619792</td>\n",
       "      <td>0.638889</td>\n",
       "      <td>0.616319</td>\n",
       "      <td>0.638021</td>\n",
       "      <td>0.463017</td>\n",
       "      <td>125740800</td>\n",
       "    </tr>\n",
       "    <tr>\n",
       "      <th>1990-01-05</th>\n",
       "      <td>0.635417</td>\n",
       "      <td>0.638889</td>\n",
       "      <td>0.621528</td>\n",
       "      <td>0.622396</td>\n",
       "      <td>0.451678</td>\n",
       "      <td>69564800</td>\n",
       "    </tr>\n",
       "    <tr>\n",
       "      <th>1990-01-08</th>\n",
       "      <td>0.621528</td>\n",
       "      <td>0.631944</td>\n",
       "      <td>0.614583</td>\n",
       "      <td>0.631944</td>\n",
       "      <td>0.458607</td>\n",
       "      <td>58982400</td>\n",
       "    </tr>\n",
       "  </tbody>\n",
       "</table>\n",
       "</div>"
      ],
      "text/plain": [
       "                Open      High       Low     Close  Adj Close     Volume\n",
       "Date                                                                    \n",
       "1990-01-02  0.605903  0.616319  0.598090  0.616319   0.447268   53033600\n",
       "1990-01-03  0.621528  0.626736  0.614583  0.619792   0.449788  113772800\n",
       "1990-01-04  0.619792  0.638889  0.616319  0.638021   0.463017  125740800\n",
       "1990-01-05  0.635417  0.638889  0.621528  0.622396   0.451678   69564800\n",
       "1990-01-08  0.621528  0.631944  0.614583  0.631944   0.458607   58982400"
      ]
     },
     "metadata": {},
     "output_type": "display_data"
    }
   ],
   "source": [
    "test = df_final\n",
    "# Target column\n",
    "target_adj_close = pd.DataFrame(test['Adj Close'])\n",
    "display(test.head())"
   ]
  },
  {
   "cell_type": "code",
   "execution_count": 11,
   "metadata": {},
   "outputs": [],
   "source": [
    "# selecting Feature Columns\n",
    "feature_columns = ['Open', 'High', 'Low', 'Volume']"
   ]
  },
  {
   "cell_type": "markdown",
   "metadata": {},
   "source": [
    "# Normalizing the data"
   ]
  },
  {
   "cell_type": "code",
   "execution_count": 12,
   "metadata": {},
   "outputs": [
    {
     "data": {
      "text/html": [
       "<div>\n",
       "<style scoped>\n",
       "    .dataframe tbody tr th:only-of-type {\n",
       "        vertical-align: middle;\n",
       "    }\n",
       "\n",
       "    .dataframe tbody tr th {\n",
       "        vertical-align: top;\n",
       "    }\n",
       "\n",
       "    .dataframe thead th {\n",
       "        text-align: right;\n",
       "    }\n",
       "</style>\n",
       "<table border=\"1\" class=\"dataframe\">\n",
       "  <thead>\n",
       "    <tr style=\"text-align: right;\">\n",
       "      <th></th>\n",
       "      <th>Open</th>\n",
       "      <th>High</th>\n",
       "      <th>Low</th>\n",
       "      <th>Volume</th>\n",
       "    </tr>\n",
       "    <tr>\n",
       "      <th>Date</th>\n",
       "      <th></th>\n",
       "      <th></th>\n",
       "      <th></th>\n",
       "      <th></th>\n",
       "    </tr>\n",
       "  </thead>\n",
       "  <tbody>\n",
       "    <tr>\n",
       "      <th>1990-01-02</th>\n",
       "      <td>0.000129</td>\n",
       "      <td>0.000105</td>\n",
       "      <td>0.000129</td>\n",
       "      <td>0.064837</td>\n",
       "    </tr>\n",
       "    <tr>\n",
       "      <th>1990-01-03</th>\n",
       "      <td>0.000265</td>\n",
       "      <td>0.000195</td>\n",
       "      <td>0.000273</td>\n",
       "      <td>0.144673</td>\n",
       "    </tr>\n",
       "    <tr>\n",
       "      <th>1990-01-04</th>\n",
       "      <td>0.000249</td>\n",
       "      <td>0.000300</td>\n",
       "      <td>0.000288</td>\n",
       "      <td>0.160404</td>\n",
       "    </tr>\n",
       "    <tr>\n",
       "      <th>1990-01-05</th>\n",
       "      <td>0.000386</td>\n",
       "      <td>0.000300</td>\n",
       "      <td>0.000334</td>\n",
       "      <td>0.086566</td>\n",
       "    </tr>\n",
       "    <tr>\n",
       "      <th>1990-01-08</th>\n",
       "      <td>0.000265</td>\n",
       "      <td>0.000240</td>\n",
       "      <td>0.000273</td>\n",
       "      <td>0.072656</td>\n",
       "    </tr>\n",
       "  </tbody>\n",
       "</table>\n",
       "</div>"
      ],
      "text/plain": [
       "                Open      High       Low    Volume\n",
       "Date                                              \n",
       "1990-01-02  0.000129  0.000105  0.000129  0.064837\n",
       "1990-01-03  0.000265  0.000195  0.000273  0.144673\n",
       "1990-01-04  0.000249  0.000300  0.000288  0.160404\n",
       "1990-01-05  0.000386  0.000300  0.000334  0.086566\n",
       "1990-01-08  0.000265  0.000240  0.000273  0.072656"
      ]
     },
     "execution_count": 12,
     "metadata": {},
     "output_type": "execute_result"
    }
   ],
   "source": [
    "from sklearn.preprocessing import MinMaxScaler\n",
    "scaler = MinMaxScaler()\n",
    "feature_minmax_transform_data = scaler.fit_transform(test[feature_columns])\n",
    "feature_minmax_transform = pd.DataFrame(columns=feature_columns, data=feature_minmax_transform_data, index=test.index)\n",
    "feature_minmax_transform.head()"
   ]
  },
  {
   "cell_type": "code",
   "execution_count": 13,
   "metadata": {},
   "outputs": [
    {
     "data": {
      "text/html": [
       "<div>\n",
       "<style scoped>\n",
       "    .dataframe tbody tr th:only-of-type {\n",
       "        vertical-align: middle;\n",
       "    }\n",
       "\n",
       "    .dataframe tbody tr th {\n",
       "        vertical-align: top;\n",
       "    }\n",
       "\n",
       "    .dataframe thead th {\n",
       "        text-align: right;\n",
       "    }\n",
       "</style>\n",
       "<table border=\"1\" class=\"dataframe\">\n",
       "  <thead>\n",
       "    <tr style=\"text-align: right;\">\n",
       "      <th></th>\n",
       "      <th>Open</th>\n",
       "      <th>High</th>\n",
       "      <th>Low</th>\n",
       "      <th>Volume</th>\n",
       "    </tr>\n",
       "    <tr>\n",
       "      <th>Date</th>\n",
       "      <th></th>\n",
       "      <th></th>\n",
       "      <th></th>\n",
       "      <th></th>\n",
       "    </tr>\n",
       "  </thead>\n",
       "  <tbody>\n",
       "    <tr>\n",
       "      <th>1990-01-02</th>\n",
       "      <td>0.000129</td>\n",
       "      <td>0.000105</td>\n",
       "      <td>0.000129</td>\n",
       "      <td>0.064837</td>\n",
       "    </tr>\n",
       "    <tr>\n",
       "      <th>1990-01-03</th>\n",
       "      <td>0.000265</td>\n",
       "      <td>0.000195</td>\n",
       "      <td>0.000273</td>\n",
       "      <td>0.144673</td>\n",
       "    </tr>\n",
       "    <tr>\n",
       "      <th>1990-01-04</th>\n",
       "      <td>0.000249</td>\n",
       "      <td>0.000300</td>\n",
       "      <td>0.000288</td>\n",
       "      <td>0.160404</td>\n",
       "    </tr>\n",
       "    <tr>\n",
       "      <th>1990-01-05</th>\n",
       "      <td>0.000386</td>\n",
       "      <td>0.000300</td>\n",
       "      <td>0.000334</td>\n",
       "      <td>0.086566</td>\n",
       "    </tr>\n",
       "    <tr>\n",
       "      <th>1990-01-08</th>\n",
       "      <td>0.000265</td>\n",
       "      <td>0.000240</td>\n",
       "      <td>0.000273</td>\n",
       "      <td>0.072656</td>\n",
       "    </tr>\n",
       "  </tbody>\n",
       "</table>\n",
       "</div>"
      ],
      "text/plain": [
       "                Open      High       Low    Volume\n",
       "Date                                              \n",
       "1990-01-02  0.000129  0.000105  0.000129  0.064837\n",
       "1990-01-03  0.000265  0.000195  0.000273  0.144673\n",
       "1990-01-04  0.000249  0.000300  0.000288  0.160404\n",
       "1990-01-05  0.000386  0.000300  0.000334  0.086566\n",
       "1990-01-08  0.000265  0.000240  0.000273  0.072656"
      ]
     },
     "metadata": {},
     "output_type": "display_data"
    },
    {
     "name": "stdout",
     "output_type": "stream",
     "text": [
      "Shape of features :  (7334, 4)\n",
      "Shape of target :  (7334, 1)\n"
     ]
    },
    {
     "data": {
      "text/html": [
       "<div>\n",
       "<style scoped>\n",
       "    .dataframe tbody tr th:only-of-type {\n",
       "        vertical-align: middle;\n",
       "    }\n",
       "\n",
       "    .dataframe tbody tr th {\n",
       "        vertical-align: top;\n",
       "    }\n",
       "\n",
       "    .dataframe thead th {\n",
       "        text-align: right;\n",
       "    }\n",
       "</style>\n",
       "<table border=\"1\" class=\"dataframe\">\n",
       "  <thead>\n",
       "    <tr style=\"text-align: right;\">\n",
       "      <th></th>\n",
       "      <th>Open</th>\n",
       "      <th>High</th>\n",
       "      <th>Low</th>\n",
       "      <th>Volume</th>\n",
       "    </tr>\n",
       "    <tr>\n",
       "      <th>Date</th>\n",
       "      <th></th>\n",
       "      <th></th>\n",
       "      <th></th>\n",
       "      <th></th>\n",
       "    </tr>\n",
       "  </thead>\n",
       "  <tbody>\n",
       "    <tr>\n",
       "      <th>2019-02-01</th>\n",
       "      <td>0.898632</td>\n",
       "      <td>0.895480</td>\n",
       "      <td>0.889984</td>\n",
       "      <td>0.041838</td>\n",
       "    </tr>\n",
       "    <tr>\n",
       "      <th>2019-02-04</th>\n",
       "      <td>0.890707</td>\n",
       "      <td>0.910189</td>\n",
       "      <td>0.893657</td>\n",
       "      <td>0.036290</td>\n",
       "    </tr>\n",
       "    <tr>\n",
       "      <th>2019-02-05</th>\n",
       "      <td>0.918487</td>\n",
       "      <td>0.922908</td>\n",
       "      <td>0.921554</td>\n",
       "      <td>0.031046</td>\n",
       "    </tr>\n",
       "    <tr>\n",
       "      <th>2019-02-06</th>\n",
       "      <td>0.926673</td>\n",
       "      <td>0.920572</td>\n",
       "      <td>0.917794</td>\n",
       "      <td>0.022219</td>\n",
       "    </tr>\n",
       "    <tr>\n",
       "      <th>2019-02-07</th>\n",
       "      <td>0.910911</td>\n",
       "      <td>0.908372</td>\n",
       "      <td>0.906950</td>\n",
       "      <td>0.034247</td>\n",
       "    </tr>\n",
       "  </tbody>\n",
       "</table>\n",
       "</div>"
      ],
      "text/plain": [
       "                Open      High       Low    Volume\n",
       "Date                                              \n",
       "2019-02-01  0.898632  0.895480  0.889984  0.041838\n",
       "2019-02-04  0.890707  0.910189  0.893657  0.036290\n",
       "2019-02-05  0.918487  0.922908  0.921554  0.031046\n",
       "2019-02-06  0.926673  0.920572  0.917794  0.022219\n",
       "2019-02-07  0.910911  0.908372  0.906950  0.034247"
      ]
     },
     "metadata": {},
     "output_type": "display_data"
    },
    {
     "data": {
      "text/html": [
       "<div>\n",
       "<style scoped>\n",
       "    .dataframe tbody tr th:only-of-type {\n",
       "        vertical-align: middle;\n",
       "    }\n",
       "\n",
       "    .dataframe tbody tr th {\n",
       "        vertical-align: top;\n",
       "    }\n",
       "\n",
       "    .dataframe thead th {\n",
       "        text-align: right;\n",
       "    }\n",
       "</style>\n",
       "<table border=\"1\" class=\"dataframe\">\n",
       "  <thead>\n",
       "    <tr style=\"text-align: right;\">\n",
       "      <th></th>\n",
       "      <th>Adj Close</th>\n",
       "    </tr>\n",
       "    <tr>\n",
       "      <th>Date</th>\n",
       "      <th></th>\n",
       "    </tr>\n",
       "  </thead>\n",
       "  <tbody>\n",
       "    <tr>\n",
       "      <th>2019-02-01</th>\n",
       "      <td>105.739998</td>\n",
       "    </tr>\n",
       "    <tr>\n",
       "      <th>2019-02-04</th>\n",
       "      <td>107.220001</td>\n",
       "    </tr>\n",
       "    <tr>\n",
       "      <th>2019-02-05</th>\n",
       "      <td>106.029999</td>\n",
       "    </tr>\n",
       "    <tr>\n",
       "      <th>2019-02-06</th>\n",
       "      <td>105.269997</td>\n",
       "    </tr>\n",
       "    <tr>\n",
       "      <th>2019-02-07</th>\n",
       "      <td>105.669998</td>\n",
       "    </tr>\n",
       "  </tbody>\n",
       "</table>\n",
       "</div>"
      ],
      "text/plain": [
       "             Adj Close\n",
       "Date                  \n",
       "2019-02-01  105.739998\n",
       "2019-02-04  107.220001\n",
       "2019-02-05  106.029999\n",
       "2019-02-06  105.269997\n",
       "2019-02-07  105.669998"
      ]
     },
     "metadata": {},
     "output_type": "display_data"
    },
    {
     "name": "stdout",
     "output_type": "stream",
     "text": [
      "\n",
      " -----After process------ \n",
      "\n",
      "Shape of features :  (7244, 4)\n",
      "Shape of target :  (7244, 1)\n"
     ]
    },
    {
     "data": {
      "text/html": [
       "<div>\n",
       "<style scoped>\n",
       "    .dataframe tbody tr th:only-of-type {\n",
       "        vertical-align: middle;\n",
       "    }\n",
       "\n",
       "    .dataframe tbody tr th {\n",
       "        vertical-align: top;\n",
       "    }\n",
       "\n",
       "    .dataframe thead th {\n",
       "        text-align: right;\n",
       "    }\n",
       "</style>\n",
       "<table border=\"1\" class=\"dataframe\">\n",
       "  <thead>\n",
       "    <tr style=\"text-align: right;\">\n",
       "      <th></th>\n",
       "      <th>Adj Close</th>\n",
       "    </tr>\n",
       "    <tr>\n",
       "      <th>Date</th>\n",
       "      <th></th>\n",
       "    </tr>\n",
       "  </thead>\n",
       "  <tbody>\n",
       "    <tr>\n",
       "      <th>2018-09-24</th>\n",
       "      <td>113.957695</td>\n",
       "    </tr>\n",
       "    <tr>\n",
       "      <th>2018-09-25</th>\n",
       "      <td>113.489723</td>\n",
       "    </tr>\n",
       "    <tr>\n",
       "      <th>2018-09-26</th>\n",
       "      <td>113.917870</td>\n",
       "    </tr>\n",
       "    <tr>\n",
       "      <th>2018-09-27</th>\n",
       "      <td>113.878044</td>\n",
       "    </tr>\n",
       "    <tr>\n",
       "      <th>2018-09-28</th>\n",
       "      <td>115.112709</td>\n",
       "    </tr>\n",
       "  </tbody>\n",
       "</table>\n",
       "</div>"
      ],
      "text/plain": [
       "             Adj Close\n",
       "Date                  \n",
       "2018-09-24  113.957695\n",
       "2018-09-25  113.489723\n",
       "2018-09-26  113.917870\n",
       "2018-09-27  113.878044\n",
       "2018-09-28  115.112709"
      ]
     },
     "metadata": {},
     "output_type": "display_data"
    }
   ],
   "source": [
    "display(feature_minmax_transform.head())\n",
    "print('Shape of features : ', feature_minmax_transform.shape)\n",
    "print('Shape of target : ', target_adj_close.shape)\n",
    "\n",
    "# Shift target array because we want to predict the n + 1 day value\n",
    "\n",
    "\n",
    "target_adj_close = target_adj_close.shift(-1)\n",
    "validation_y = target_adj_close[-90:-1]\n",
    "target_adj_close = target_adj_close[:-90]\n",
    "\n",
    "# Taking last 90 rows of data to be validation set\n",
    "validation_X = feature_minmax_transform[-90:-1]\n",
    "feature_minmax_transform = feature_minmax_transform[:-90]\n",
    "display(validation_X.tail())\n",
    "display(validation_y.tail())\n",
    "\n",
    "print(\"\\n -----After process------ \\n\")\n",
    "print('Shape of features : ', feature_minmax_transform.shape)\n",
    "print('Shape of target : ', target_adj_close.shape)\n",
    "display(target_adj_close.tail())"
   ]
  },
  {
   "cell_type": "markdown",
   "metadata": {},
   "source": [
    "# Train test Split using Timeseriessplit"
   ]
  },
  {
   "cell_type": "code",
   "execution_count": 14,
   "metadata": {},
   "outputs": [],
   "source": [
    "ts_split= TimeSeriesSplit(n_splits=10)\n",
    "for train_index, test_index in ts_split.split(feature_minmax_transform):\n",
    "        X_train, X_test = feature_minmax_transform[:len(train_index)], feature_minmax_transform[len(train_index): (len(train_index)+len(test_index))]\n",
    "        y_train, y_test = target_adj_close[:len(train_index)].values.ravel(), target_adj_close[len(train_index): (len(train_index)+len(test_index))].values.ravel()"
   ]
  },
  {
   "cell_type": "code",
   "execution_count": 15,
   "metadata": {},
   "outputs": [
    {
     "data": {
      "text/plain": [
       "(6586, 4)"
      ]
     },
     "execution_count": 15,
     "metadata": {},
     "output_type": "execute_result"
    }
   ],
   "source": [
    "\n",
    "X_train.shape"
   ]
  },
  {
   "cell_type": "code",
   "execution_count": 16,
   "metadata": {},
   "outputs": [
    {
     "data": {
      "text/plain": [
       "(658, 4)"
      ]
     },
     "execution_count": 16,
     "metadata": {},
     "output_type": "execute_result"
    }
   ],
   "source": [
    "X_test.shape"
   ]
  },
  {
   "cell_type": "code",
   "execution_count": 17,
   "metadata": {},
   "outputs": [
    {
     "data": {
      "text/plain": [
       "(6586,)"
      ]
     },
     "execution_count": 17,
     "metadata": {},
     "output_type": "execute_result"
    }
   ],
   "source": [
    "y_train.shape"
   ]
  },
  {
   "cell_type": "code",
   "execution_count": 18,
   "metadata": {},
   "outputs": [
    {
     "data": {
      "text/plain": [
       "(658,)"
      ]
     },
     "execution_count": 18,
     "metadata": {},
     "output_type": "execute_result"
    }
   ],
   "source": [
    "y_test.shape"
   ]
  },
  {
   "cell_type": "code",
   "execution_count": 19,
   "metadata": {},
   "outputs": [],
   "source": [
    "def validate_result(model, model_name):\n",
    "    predicted = model.predict(validation_X)\n",
    "    RSME_score = np.sqrt(mean_squared_error(validation_y, predicted))\n",
    "    print('RMSE: ', RSME_score)\n",
    "    \n",
    "    R2_score = r2_score(validation_y, predicted)\n",
    "    print('R2 score: ', R2_score)\n",
    "\n",
    "    plt.plot(validation_y.index, predicted,'r', label='Predict')\n",
    "    plt.plot(validation_y.index, validation_y,'b', label='Actual')\n",
    "    plt.ylabel('Price')\n",
    "    plt.gca().xaxis.set_major_formatter(mdates.DateFormatter('%Y-%m-%d'))\n",
    "    plt.gca().xaxis.set_major_locator(mdates.MonthLocator())\n",
    "    plt.title(model_name + ' Predict vs Actual')\n",
    "    plt.legend(loc='upper right')\n",
    "    plt.show()"
   ]
  },
  {
   "cell_type": "markdown",
   "metadata": {},
   "source": [
    "# Process the data for LSTM"
   ]
  },
  {
   "cell_type": "code",
   "execution_count": 20,
   "metadata": {},
   "outputs": [],
   "source": [
    "X_train =np.array(X_train)\n",
    "X_test =np.array(X_test)\n",
    "\n",
    "X_tr_t = X_train.reshape(X_train.shape[0], 1, X_train.shape[1])\n",
    "X_tst_t = X_test.reshape(X_test.shape[0], 1, X_test.shape[1])"
   ]
  },
  {
   "cell_type": "markdown",
   "metadata": {},
   "source": [
    "# Model building : LSTM"
   ]
  },
  {
   "cell_type": "code",
   "execution_count": 21,
   "metadata": {},
   "outputs": [
    {
     "name": "stdout",
     "output_type": "stream",
     "text": [
      "Epoch 1/200\n",
      "824/824 [==============================] - 5s 3ms/step - loss: 101.8651\n",
      "Epoch 2/200\n",
      "824/824 [==============================] - 2s 3ms/step - loss: 28.6327\n",
      "Epoch 3/200\n",
      "824/824 [==============================] - 2s 3ms/step - loss: 22.5896\n",
      "Epoch 4/200\n",
      "824/824 [==============================] - 2s 3ms/step - loss: 12.6673\n",
      "Epoch 5/200\n",
      "824/824 [==============================] - 2s 3ms/step - loss: 6.0037\n",
      "Epoch 6/200\n",
      "824/824 [==============================] - 2s 2ms/step - loss: 2.6294\n",
      "Epoch 7/200\n",
      "824/824 [==============================] - 2s 2ms/step - loss: 1.4683\n",
      "Epoch 8/200\n",
      "824/824 [==============================] - 2s 2ms/step - loss: 1.1212\n",
      "Epoch 9/200\n",
      "824/824 [==============================] - 2s 3ms/step - loss: 0.9816\n",
      "Epoch 10/200\n",
      "824/824 [==============================] - 2s 3ms/step - loss: 0.9047\n",
      "Epoch 11/200\n",
      "824/824 [==============================] - 2s 3ms/step - loss: 0.8563\n",
      "Epoch 12/200\n",
      "824/824 [==============================] - 2s 3ms/step - loss: 0.8240\n",
      "Epoch 13/200\n",
      "824/824 [==============================] - 2s 3ms/step - loss: 0.8017\n",
      "Epoch 14/200\n",
      "824/824 [==============================] - 2s 2ms/step - loss: 0.7859\n",
      "Epoch 15/200\n",
      "824/824 [==============================] - 2s 2ms/step - loss: 0.7743\n",
      "Epoch 16/200\n",
      "824/824 [==============================] - 2s 2ms/step - loss: 0.7656\n",
      "Epoch 17/200\n",
      "824/824 [==============================] - 2s 2ms/step - loss: 0.7588\n",
      "Epoch 18/200\n",
      "824/824 [==============================] - 2s 2ms/step - loss: 0.7535\n",
      "Epoch 19/200\n",
      "824/824 [==============================] - 2s 2ms/step - loss: 0.7493\n",
      "Epoch 20/200\n",
      "824/824 [==============================] - 2s 2ms/step - loss: 0.7458\n",
      "Epoch 21/200\n",
      "824/824 [==============================] - 2s 2ms/step - loss: 0.7430\n",
      "Epoch 22/200\n",
      "824/824 [==============================] - 2s 2ms/step - loss: 0.7408\n",
      "Epoch 23/200\n",
      "824/824 [==============================] - 2s 2ms/step - loss: 0.7389\n",
      "Epoch 24/200\n",
      "824/824 [==============================] - 2s 2ms/step - loss: 0.7374\n",
      "Epoch 25/200\n",
      "824/824 [==============================] - 2s 3ms/step - loss: 0.7362\n",
      "Epoch 26/200\n",
      "824/824 [==============================] - 2s 2ms/step - loss: 0.7353\n",
      "Epoch 27/200\n",
      "824/824 [==============================] - 2s 2ms/step - loss: 0.7346\n",
      "Epoch 28/200\n",
      "824/824 [==============================] - 2s 3ms/step - loss: 0.7342\n",
      "Epoch 29/200\n",
      "824/824 [==============================] - 2s 3ms/step - loss: 0.7339\n",
      "Epoch 30/200\n",
      "824/824 [==============================] - 2s 2ms/step - loss: 0.7337\n",
      "Epoch 31/200\n",
      "824/824 [==============================] - 2s 2ms/step - loss: 0.7337\n",
      "Epoch 32/200\n",
      "824/824 [==============================] - 2s 2ms/step - loss: 0.7338\n",
      "Epoch 33/200\n",
      "824/824 [==============================] - 2s 3ms/step - loss: 0.7340\n",
      "Epoch 34/200\n",
      "824/824 [==============================] - 2s 3ms/step - loss: 0.7343\n",
      "Epoch 35/200\n",
      "824/824 [==============================] - 2s 3ms/step - loss: 0.7347\n",
      "Epoch 36/200\n",
      "824/824 [==============================] - 2s 3ms/step - loss: 0.7352\n",
      "Epoch 36: early stopping\n"
     ]
    }
   ],
   "source": [
    "\n",
    "from keras.models import Sequential\n",
    "from keras.layers import Dense\n",
    "import keras.backend as K\n",
    "from keras.callbacks import EarlyStopping\n",
    "from keras.optimizers import Adam\n",
    "from keras.models import load_model\n",
    "from keras.layers import LSTM\n",
    "K.clear_session()\n",
    "model_lstm = Sequential()\n",
    "model_lstm.add(LSTM(16, input_shape=(1, X_train.shape[1]), activation='relu', return_sequences=False))\n",
    "model_lstm.add(Dense(1))\n",
    "model_lstm.compile(loss='mean_squared_error', optimizer='adam')\n",
    "early_stop = EarlyStopping(monitor='loss', patience=5, verbose=1)\n",
    "history_model_lstm = model_lstm.fit(X_tr_t, y_train, epochs=200, batch_size=8, verbose=1, shuffle=False, callbacks=[early_stop])"
   ]
  },
  {
   "cell_type": "markdown",
   "metadata": {},
   "source": [
    "# Evaluation of Model"
   ]
  },
  {
   "cell_type": "code",
   "execution_count": 22,
   "metadata": {},
   "outputs": [
    {
     "name": "stdout",
     "output_type": "stream",
     "text": [
      "21/21 [==============================] - 1s 2ms/step\n",
      "206/206 [==============================] - 0s 2ms/step\n",
      "The R2 score on the Train set is:\t0.884\n",
      "The R2 score on the Test set is:\t0.906\n"
     ]
    }
   ],
   "source": [
    "y_pred_test_lstm = model_lstm.predict(X_tst_t)\n",
    "y_train_pred_lstm = model_lstm.predict(X_tr_t)\n",
    "print(\"The R2 score on the Train set is:\\t{:0.3f}\".format(r2_score(y_train, y_train_pred_lstm)))\n",
    "r2_train = r2_score(y_train, y_train_pred_lstm)\n",
    "\n",
    "print(\"The R2 score on the Test set is:\\t{:0.3f}\".format(r2_score(y_test, y_pred_test_lstm)))\n",
    "r2_test = r2_score(y_test, y_pred_test_lstm)\n"
   ]
  },
  {
   "cell_type": "markdown",
   "metadata": {},
   "source": [
    "## Predictions made by LSTM"
   ]
  },
  {
   "cell_type": "code",
   "execution_count": 23,
   "metadata": {},
   "outputs": [
    {
     "name": "stdout",
     "output_type": "stream",
     "text": [
      "658/658 [==============================] - 2s 2ms/step - loss: 33.7434\n"
     ]
    }
   ],
   "source": [
    "score_lstm= model_lstm.evaluate(X_tst_t, y_test, batch_size=1)"
   ]
  },
  {
   "cell_type": "code",
   "execution_count": 24,
   "metadata": {},
   "outputs": [
    {
     "name": "stdout",
     "output_type": "stream",
     "text": [
      "LSTM: 33.743393\n"
     ]
    }
   ],
   "source": [
    "print('LSTM: %f'%score_lstm)"
   ]
  },
  {
   "cell_type": "code",
   "execution_count": 25,
   "metadata": {},
   "outputs": [
    {
     "name": "stdout",
     "output_type": "stream",
     "text": [
      "21/21 [==============================] - 0s 2ms/step\n"
     ]
    }
   ],
   "source": [
    "y_pred_test_LSTM = model_lstm.predict(X_tst_t)"
   ]
  },
  {
   "cell_type": "markdown",
   "metadata": {},
   "source": [
    "# LSTM's Prediction Visual"
   ]
  },
  {
   "cell_type": "code",
   "execution_count": 26,
   "metadata": {},
   "outputs": [
    {
     "data": {
      "image/png": "[encoded data removed]",
      "text/plain": [
       "<Figure size 640x480 with 1 Axes>"
      ]
     },
     "metadata": {},
     "output_type": "display_data"
    }
   ],
   "source": [
    "plt.plot(y_test, label='True')\n",
    "plt.plot(y_pred_test_LSTM, label='LSTM')\n",
    "plt.title(\"LSTM's_Prediction\")\n",
    "plt.xlabel('Observation')\n",
    "plt.ylabel('INR_Scaled')\n",
    "plt.legend()\n",
    "plt.show()\n"
   ]
  },
  {
   "cell_type": "markdown",
   "metadata": {},
   "source": [
    "# Converting Prediction data\n",
    "In this step I have made the prediction of test data and will convert the dataframe to csv so that we can see the price difference between actual and predicted price."
   ]
  },
  {
   "cell_type": "code",
   "execution_count": 27,
   "metadata": {},
   "outputs": [],
   "source": [
    "col1 = pd.DataFrame(y_test, columns=['True'])\n",
    "\n",
    "col2 = pd.DataFrame(y_pred_test_LSTM, columns=['LSTM_prediction'])\n",
    "\n",
    "col3 = pd.DataFrame(history_model_lstm.history['loss'], columns=['Loss_LSTM'])\n",
    "results = pd.concat([col1, col2, col3], axis=1)\n",
    "results.to_excel('PredictionResults_LSTM.xlsx')"
   ]
  },
  {
   "cell_type": "markdown",
   "metadata": {},
   "source": [
    "# Conclusion"
   ]
  },
  {
   "cell_type": "markdown",
   "metadata": {},
   "source": [
    "It is impossible to  get a model that can 99% predict the price without any error, there are too many factors can affect the\n",
    "stock prices. So, we cannot hope there is a perfect model, but the general trend of predicted price is in line with the actual data, so the trader could have an indicator to reference, and makes trading decision by himself.\n",
    "\n",
    "\n",
    "Further, we can improve the model's accuracy by increasing the epochs, trying out different activation functions or even change the model's structure. As exact "
   ]
  },
  {
   "cell_type": "code",
   "execution_count": null,
   "metadata": {},
   "outputs": [],
   "source": []
  }
 ],
 "metadata": {
  "kernelspec": {
   "display_name": "Python 3 (ipykernel)",
   "language": "python",
   "name": "python3"
  },
  "language_info": {
   "codemirror_mode": {
    "name": "ipython",
    "version": 3
   },
   "file_extension": ".py",
   "mimetype": "text/x-python",
   "name": "python",
   "nbconvert_exporter": "python",
   "pygments_lexer": "ipython3",
   "version": "3.9.13"
  }
 },
 "nbformat": 4,
 "nbformat_minor": 2
}
